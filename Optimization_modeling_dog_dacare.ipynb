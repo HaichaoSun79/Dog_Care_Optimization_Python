{
 "cells": [
  {
   "cell_type": "markdown",
   "id": "69c1eb9a",
   "metadata": {},
   "source": [
    "### Han, Joy; Luo, Yutong; Sun, Haichao; Zhang, Stephanie; Zhou, Sophie"
   ]
  },
  {
   "cell_type": "markdown",
   "id": "e207cf97",
   "metadata": {},
   "source": [
    "# Model Formulations"
   ]
  },
  {
   "cell_type": "markdown",
   "id": "6e67d480",
   "metadata": {},
   "source": [
    "### Variables"
   ]
  },
  {
   "cell_type": "markdown",
   "id": "02b6130a",
   "metadata": {},
   "source": [
    "We set our variables to be the number of big dogs (x1), number of small dogs (x2) and fixed costs(x3). It is important to note that we set the variable type to be continuous for our ease to calculate the shadow price. Since shadow price is the slope of a line, the variable type should be set to be continuous rather than integer (discrete).\n",
    "\n",
    "Objective Function\n",
    "Our objective is to maximize the daily profit. We formulated our objective function by adding up the profits made by big dogs and small dogs and deducting fixed costs from it. The profits from big dogs are calculated by taking the difference of the revenues and variable costs from big dogs (\\\\$43-\\\\$5 = \\\\$38) and the same fashion applies for the calculation of small dogs (\\\\$28-\\\\$3=\\\\$25). The variable costs are mainly from dog food and different dog supplies such as toy for them to play with. The monthly fixed costs are calculated by summing up the rent & utility costs, insurance, labor and license costs. In order to obtain the daily fixed costs, we divide the monthly fixed costs by 30 days. Therefore, our objective function is:\n",
    "\n",
    "\n",
    "                                            Maximum. 38x1 + 25x2 - x3\n"
   ]
  },
  {
   "cell_type": "markdown",
   "id": "dc8f9438",
   "metadata": {},
   "source": [
    "### Constraints"
   ]
  },
  {
   "cell_type": "markdown",
   "id": "c9552d83",
   "metadata": {},
   "source": [
    "We had two major constraints and another constraint for ease of calculation. The lot size for PUPTOWN GIRLS is only 5000 square feet which sets the limit for the space occupied by both big and small dogs. A big dog will occupy approximately 80 square feet while a small dog will occupy approximately 60 square feet. Therefore, our first constraint is to add up the space occupied by both big and small dogs to be less than or equal to the lot size:\n",
    "\n",
    "                                                  80x1 + 60x2 <= 5000\n",
    "\n",
    "The second constraint is related to the number of employees. There are only 10 employees at PUPTOWN GIRLS and every employee could take care of 5 big dogs or 10 small dogs. We transform the coefficients to be the number of employees per big or small dog. Therefore, our second constraint is:\n",
    "\n",
    "                                                  0.2x1 + 0.1x2 <= 10\n",
    "\n",
    "Our third constraint is just to put the value of fixed cost calculated before, which is:\n",
    "    \n",
    "                                                    x3 = 863.83\n",
    "\n",
    "Our final model is:\n",
    "\n",
    "                                             Max. 38x1 + 25x2 - x3\n",
    "                                            s.t. 80x1 + 60x2 <= 5000\n",
    "                                              0.2x1 + 0.1x2  <= 10\n",
    "                                                    x3 = 863.83\n",
    "\n",
    "The code will be as follows:"
   ]
  },
  {
   "cell_type": "code",
   "execution_count": 1,
   "id": "30c39702",
   "metadata": {},
   "outputs": [],
   "source": [
    "import pandas as pd\n",
    "from gurobipy import *\n",
    "import openpyxl"
   ]
  },
  {
   "cell_type": "code",
   "execution_count": 2,
   "id": "2dbe4460",
   "metadata": {},
   "outputs": [],
   "source": [
    "# reading the inputs from Excel workbook\n",
    "wb = openpyxl.load_workbook(\"Optimization_modeling_dog_dacare.xlsx\")\n",
    "main = wb['Main']"
   ]
  },
  {
   "cell_type": "code",
   "execution_count": 3,
   "id": "cdeb61cb",
   "metadata": {},
   "outputs": [],
   "source": [
    "# read objevtive\n",
    "obj = main.cell(column=2, row=1).value\n",
    "if obj =='max':\n",
    "    obj = -1\n",
    "elif obj =='min':\n",
    "    obj = 1\n",
    "else:\n",
    "    raise NameError('Objective cannot be recognized')\n",
    "# read obj coefficient\n",
    "obj_coeff = []\n",
    "for c in range(2,10000):\n",
    "    v = main.cell(column=c, row=3).value\n",
    "    if v is None:\n",
    "        break\n",
    "    else:\n",
    "        obj_coeff.append(v)\n",
    "n_variables = len(obj_coeff)\n",
    "\n",
    "#read variable properties\n",
    "variable_name = []\n",
    "for c in range(n_variables):\n",
    "    v = main.cell(column=c+2, row=2).value\n",
    "    if v is None:\n",
    "        variable_name.append('x'+str(c+1))\n",
    "    elif type(v) != str:\n",
    "        variable_name.append(str(v))\n",
    "    else:\n",
    "        variable_name.append(v)\n",
    "        \n",
    "variable_type = []\n",
    "for c in range(n_variables):\n",
    "    v = main.cell(column=c+2, row=4).value\n",
    "    if v is None:\n",
    "        t = 'C' \n",
    "    elif v == 'cont':\n",
    "        t = 'C'\n",
    "    elif v == 'int':\n",
    "        t = 'I'\n",
    "    elif v == 'bin':\n",
    "        t = 'B'\n",
    "    else:\n",
    "        raise NameError('Variable type cannot be recognized')\n",
    "    variable_type.append(t)\n",
    "    \n",
    "variable_lb = []\n",
    "for c in range(n_variables):\n",
    "    v = main.cell(column=c+2, row=5).value\n",
    "    if v is None:\n",
    "        t = 0\n",
    "    elif v == '\"+inf\"':\n",
    "        raise NameError('Variable lower bound cannot be +inf')\n",
    "    elif v == '\"-inf\"':\n",
    "        t = -GRB.INFINITY\n",
    "    elif type(v) in [float, int]:\n",
    "        t = v\n",
    "    else:\n",
    "        raise NameError('Variable lower bound cannot be recognized')\n",
    "    variable_lb.append(t)\n",
    "\n",
    "variable_ub = []\n",
    "for c in range(n_variables):\n",
    "    v = main.cell(column=c+2, row=6).value\n",
    "    if v is None:\n",
    "        t = GRB.INFINITY\n",
    "    elif v == '\"+inf\"':\n",
    "        t = GRB.INFINITY\n",
    "    elif v == '\"-inf\"':\n",
    "        raise NameError('Variable upper bound cannot be -inf')\n",
    "    elif type(v) in [float, int]:\n",
    "        t = v\n",
    "    else:\n",
    "        raise NameError('Variable upper bound cannot be recognized')\n",
    "    variable_ub.append(t)\n",
    "#print(obj_coeff)"
   ]
  },
  {
   "cell_type": "code",
   "execution_count": 4,
   "id": "57689e65",
   "metadata": {},
   "outputs": [],
   "source": [
    "# read constraints\n",
    "## find constraint column index\n",
    "for c in range(1, n_variables+100):\n",
    "    v = main.cell(column=c, row=8).value\n",
    "    if v == 'constraint type':\n",
    "        const_typ_cind = c\n",
    "        break\n",
    "\n",
    "if const_typ_cind-2 != n_variables:\n",
    "    raise NameError('Number of variables does not match the constraints')\n",
    "    \n",
    "## find last constraint row index\n",
    "for r in range(9, 100000):\n",
    "    v = main.cell(column=const_typ_cind, row=r).value\n",
    "    if v is None:\n",
    "        break\n",
    "    elif v not in [\"<=\", \">=\", \"=\"]:\n",
    "        raise NameError(\"Wrong constraint type\")\n",
    "    else:\n",
    "        last_r_consraints=r\n",
    "\n",
    "## read constraints as dataframe\n",
    "for r in range(9, last_r_consraints+1):\n",
    "    v = main.cell(column=const_typ_cind+2, row=r).value\n",
    "    if v is None:\n",
    "        main.cell(column=const_typ_cind+2, row=r).value = \"c\"+str(r-8)\n",
    "    elif type(v) != str:\n",
    "        main.cell(column=const_typ_cind+2, row=r).value = str(v)\n",
    "    else:\n",
    "        1==1        \n",
    "values = []\n",
    "cons_df = pd.DataFrame()\n",
    "for r in range(9, last_r_consraints+1):\n",
    "    r_values = []\n",
    "    for c in range(2, const_typ_cind+3):\n",
    "        r_values.append(main.cell(column=c, row=r).value)\n",
    "    values.append(r_values)\n",
    "    cons_df = pd.DataFrame(values)\n",
    "    cons_df.fillna(0, inplace=True)\n",
    "    cons_df.rename(columns={const_typ_cind-2:'constraint type', \n",
    "                            const_typ_cind-1:'RHS values', \n",
    "                            const_typ_cind:'constraint name'}, inplace=True)"
   ]
  },
  {
   "cell_type": "code",
   "execution_count": 5,
   "id": "07720262",
   "metadata": {},
   "outputs": [
    {
     "name": "stdout",
     "output_type": "stream",
     "text": [
      "Set parameter Username\n",
      "Academic license - for non-commercial use only - expires 2023-09-02\n"
     ]
    }
   ],
   "source": [
    "# setup model\n",
    "m = Model()"
   ]
  },
  {
   "cell_type": "code",
   "execution_count": 6,
   "id": "90d1c2ac",
   "metadata": {},
   "outputs": [],
   "source": [
    "# add variables\n",
    "x=m.addVars(n_variables)\n",
    "# set types, lb, ub of variables\n",
    "for i in range(n_variables):\n",
    "    x[i].setAttr('VarNAME', variable_name[i])\n",
    "    x[i].setAttr('vType', variable_type[i])\n",
    "    x[i].setAttr('lb', variable_lb[i])\n",
    "    x[i].setAttr('ub', variable_ub[i])"
   ]
  },
  {
   "cell_type": "code",
   "execution_count": 7,
   "id": "c0a18b06",
   "metadata": {},
   "outputs": [],
   "source": [
    "# set objective\n",
    "objective = quicksum(obj_coeff[i] * x[i] for i in range(n_variables))\n",
    "m.setObjective(objective, obj)"
   ]
  },
  {
   "cell_type": "code",
   "execution_count": 8,
   "id": "ab299b02",
   "metadata": {},
   "outputs": [],
   "source": [
    "# add constraints\n",
    "if cons_df.shape[0]:\n",
    "    ## add le constraints\n",
    "    le_const = cons_df[cons_df['constraint type'] == '<=']\n",
    "    le_const.reset_index(inplace=True, drop=True)\n",
    "    for i in range(le_const.shape[0]):\n",
    "        m.addConstr(quicksum(le_const.iloc[i,j]* x[j] for j in range(n_variables)) <= le_const['RHS values'][i], \n",
    "                    name = le_const['constraint name'][i])\n",
    "    ## add ge constraints\n",
    "    ge_const = cons_df[cons_df['constraint type'] == '>=']\n",
    "    ge_const.reset_index(inplace=True, drop=True)\n",
    "    for i in range(ge_const.shape[0]):\n",
    "        m.addConstr(quicksum(ge_const.iloc[i,j]* x[j] for j in range(n_variables)) >= ge_const['RHS values'][i], \n",
    "                    name = ge_const['constraint name'][i])\n",
    "    ## add eq constraints\n",
    "    eq_const = cons_df[cons_df['constraint type'] == '=']\n",
    "    eq_const.reset_index(inplace=True, drop=True)\n",
    "    for i in range(eq_const.shape[0]):\n",
    "        m.addConstr(quicksum(eq_const.iloc[i,j]* x[j] for j in range(n_variables)) == eq_const['RHS values'][i], \n",
    "                    name = eq_const['constraint name'][i])"
   ]
  },
  {
   "cell_type": "code",
   "execution_count": 9,
   "id": "8242d093",
   "metadata": {},
   "outputs": [
    {
     "name": "stdout",
     "output_type": "stream",
     "text": [
      "Gurobi Optimizer version 9.5.2 build v9.5.2rc0 (win64)\n",
      "Thread count: 14 physical cores, 20 logical processors, using up to 20 threads\n",
      "Optimize a model with 3 rows, 3 columns and 5 nonzeros\n",
      "Model fingerprint: 0x44f826ad\n",
      "Coefficient statistics:\n",
      "  Matrix range     [1e-01, 8e+01]\n",
      "  Objective range  [1e+00, 4e+01]\n",
      "  Bounds range     [0e+00, 0e+00]\n",
      "  RHS range        [1e+01, 5e+03]\n",
      "Presolve removed 1 rows and 1 columns\n",
      "Presolve time: 0.00s\n",
      "Presolved: 2 rows, 2 columns, 4 nonzeros\n",
      "\n",
      "Iteration    Objective       Primal Inf.    Dual Inf.      Time\n",
      "       0    1.5111700e+03   8.979600e+01   0.000000e+00      0s\n",
      "       2    1.3361700e+03   0.000000e+00   0.000000e+00      0s\n",
      "\n",
      "Solved in 2 iterations and 0.01 seconds (0.00 work units)\n",
      "Optimal objective  1.336170000e+03\n"
     ]
    }
   ],
   "source": [
    "## run the model\n",
    "m.optimize()"
   ]
  },
  {
   "cell_type": "code",
   "execution_count": 10,
   "id": "13d6b9d3",
   "metadata": {},
   "outputs": [
    {
     "name": "stdout",
     "output_type": "stream",
     "text": [
      "\n",
      "    Variable            X \n",
      "-------------------------\n",
      "      BigDog           25 \n",
      "    SmallDog           50 \n",
      "   FixedCost       863.83 \n"
     ]
    }
   ],
   "source": [
    "# print optimal solution\n",
    "m.printAttr('X')"
   ]
  },
  {
   "cell_type": "markdown",
   "id": "7a6decdc",
   "metadata": {},
   "source": [
    "# Results"
   ]
  },
  {
   "cell_type": "markdown",
   "id": "dad7c584",
   "metadata": {},
   "source": [
    "Finally, after fitting the spreadsheet in Gurobi, the optimal function gives the solution of 25 big dogs and 50 small dogs, which gives the revenue of \\\\$2,475 (\\\\$28 * 50 + \\\\$43 * 25) per day and maximum profit of \\\\$1,336.17 per day.\n",
    "\n",
    "We have also done sensitivity analysis. According to the sensitivity analysis, the shadow price for the size of the lot is 0.3 and the shadow price for employees within the range 9 to 12 is 69.99."
   ]
  },
  {
   "cell_type": "markdown",
   "id": "6eecfd26",
   "metadata": {},
   "source": [
    "# Sensitivity Analysis"
   ]
  },
  {
   "cell_type": "markdown",
   "id": "6843d955",
   "metadata": {},
   "source": [
    "To conclude, we have delivered an optimization model for PUPTOWN GIRLS to maximize the profit. The model is fitted in Gurobi and has delivered results for variable optimization. The optimized profit is \\\\$1,336.17 per day.\n",
    "\n",
    "This profit is substantial for the business operation and the owner’s family. Moreover, through our shadow price analysis, we have made some suggestions for PUPTOWN GIRLS to increase their profit. One of the constraints is the size of the play area for dogs. We do not recommend PUPTOWN GIRLS to increase their size to enable more customers since the shadow price is only 0.3. So, when increasing the size by 1 square feet, profit only increases by \\\\$ 0.30. Given the rent in Vancouver, this is economically inefficient. The other constraint is the number of employees. According to the sensitivity analysis, we recommend PUPTOWN GIRLS to hire additional employees to achieve higher profits. Adding one employee will increase the profit by \\\\$ 70, and the employee’s daily wage is only \\\\$66.67. So we suggest PUPTOWN GIRLS to increase the number of employees by two more. "
   ]
  },
  {
   "cell_type": "code",
   "execution_count": 11,
   "id": "fcd510d2",
   "metadata": {},
   "outputs": [
    {
     "name": "stdout",
     "output_type": "stream",
     "text": [
      "For Variable BigDog:\n",
      "Minimum value coefficient can take before the optimal decision changes is 33.333333333333336\n",
      "Maximum value coefficient can take before the optimal decision changes is 50.00000000000001\n",
      "For Variable SmallDog:\n",
      "Minimum value coefficient can take before the optimal decision changes is 19.0\n",
      "Maximum value coefficient can take before the optimal decision changes is 28.5\n",
      "For Variable FixedCost:\n",
      "Minimum value coefficient can take before the optimal decision changes is -inf\n",
      "Maximum value coefficient can take before the optimal decision changes is inf\n"
     ]
    }
   ],
   "source": [
    "# sensitivity analysis\n",
    "for v in m.getVars():\n",
    "    print(\"For Variable \" + v.VarName+ \":\")\n",
    "    print(\"Minimum value coefficient can take before the optimal decision changes \"  + \"is \" + str(v.SAObjLow))\n",
    "    print(\"Maximum value coefficient can take before the optimal decision changes \"  + \"is \" + str(v.SAObjUp))"
   ]
  },
  {
   "cell_type": "code",
   "execution_count": 12,
   "id": "f498cb37",
   "metadata": {},
   "outputs": [
    {
     "name": "stdout",
     "output_type": "stream",
     "text": [
      "For constraint c1:\n",
      "Shawdow Price is 0.3000000000000001\n",
      "Minimum value RHS can take before the shadow price changes is 4000.0\n",
      "Maximum value RHS can take before the shadow price changes is 6000.0\n",
      "For constraint c2:\n",
      "Shawdow Price is 69.99999999999996\n",
      "Minimum value RHS can take before the shadow price changes is 8.333333333333334\n",
      "Maximum value RHS can take before the shadow price changes is 12.500000000000002\n",
      "For constraint c3:\n",
      "Shawdow Price is -1.0\n",
      "Minimum value RHS can take before the shadow price changes is 0.0\n",
      "Maximum value RHS can take before the shadow price changes is inf\n"
     ]
    }
   ],
   "source": [
    "for c in m.getConstrs():\n",
    "    print(\"For constraint \" + c.ConstrName+ \":\")\n",
    "    print(\"Shawdow Price is \" + str(c.pi))\n",
    "    print(\"Minimum value RHS can take before the shadow price changes \"  + \"is \" + str(c.SARHSLow))\n",
    "    print(\"Maximum value RHS can take before the shadow price changes \"  + \"is \" + str(c.SARHSUp))"
   ]
  },
  {
   "cell_type": "markdown",
   "id": "02ed3a38",
   "metadata": {},
   "source": [
    "# Discussion"
   ]
  },
  {
   "cell_type": "markdown",
   "id": "169f724d",
   "metadata": {},
   "source": [
    "According to our recommendation, we provided some implementation methods to PUPTOWN GIRLS to reach their optimized number of dogs. If the number of dogs has not reached the optimal level, PUPTOWN GIRLS can spend efforts on advertisements within the community. On the other hand, PUPTOWN GIRLS can make the announcement, as they have reached the daily full capacity, to assure experience and safety of dog stay, thus achieving their optimal value.\n",
    "\n",
    "Finally, from this case study we not only created this model and reviewed what we learned in class. We also acquired the process of field study, learned about the pet service industry, strengthened problem solving skills and methods to complete a case study, and worked as a team efficiently.\n"
   ]
  },
  {
   "cell_type": "code",
   "execution_count": null,
   "id": "8b8c7222",
   "metadata": {},
   "outputs": [],
   "source": []
  }
 ],
 "metadata": {
  "kernelspec": {
   "display_name": "Python 3 (ipykernel)",
   "language": "python",
   "name": "python3"
  },
  "language_info": {
   "codemirror_mode": {
    "name": "ipython",
    "version": 3
   },
   "file_extension": ".py",
   "mimetype": "text/x-python",
   "name": "python",
   "nbconvert_exporter": "python",
   "pygments_lexer": "ipython3",
   "version": "3.9.12"
  }
 },
 "nbformat": 4,
 "nbformat_minor": 5
}
